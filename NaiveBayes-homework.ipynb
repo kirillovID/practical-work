{
 "cells": [
  {
   "cell_type": "code",
   "execution_count": 1,
   "metadata": {},
   "outputs": [],
   "source": [
    "import numpy as np\n",
    "from sklearn.datasets import fetch_20newsgroups\n",
    "\n",
    "newsgroups_train = fetch_20newsgroups(subset='train', remove=('headers', 'footers', 'quotes'))"
   ]
  },
  {
   "cell_type": "code",
   "execution_count": 2,
   "metadata": {},
   "outputs": [],
   "source": [
    "from sklearn.feature_extraction.stop_words import ENGLISH_STOP_WORDS\n",
    "from sklearn.feature_extraction.text import TfidfVectorizer\n",
    "\n",
    "vectorizer = TfidfVectorizer(stop_words = ENGLISH_STOP_WORDS).fit(newsgroups_train.data)\n",
    "X_train_vectors = vectorizer.transform(newsgroups_train.data)"
   ]
  },
  {
   "cell_type": "code",
   "execution_count": 3,
   "metadata": {},
   "outputs": [],
   "source": [
    "from sklearn.naive_bayes import ComplementNB\n",
    "\n",
    "clf = ComplementNB(alpha=0.9, class_prior=None, fit_prior=False, norm=False).fit(X_train_vectors, newsgroups_train.target)"
   ]
  },
  {
   "cell_type": "code",
   "execution_count": 4,
   "metadata": {},
   "outputs": [
    {
     "name": "stdout",
     "output_type": "stream",
     "text": [
      "alt.atheism: bevans geocentrism circulus lewd abiliy proselytizers propter circumstantial bethulah elee\n",
      "comp.graphics: epsf 020637 epsi ove outwards criiterion outrunning outputing cricket visualizer\n",
      "comp.os.ms-windows.misc: auhl7 om9xax 82c607 82bbzt _supercharging hix 3958784 auh hitr 3iirlj103j1\n",
      "comp.sys.ibm.pc.hardware: suggeted me2 allister assisatnce 2350 libc 8800cs 02h drdos6 persnickity\n",
      "comp.sys.mac.hardware: poweropen powerpcs eeeee 5el3 1722 10pnt powerstrip ichips trafa catchup\n",
      "comp.windows.x: 8vao est5edt popen_xphigs llat popen_ws fractionally nassestr wellorganized bursty n86pl\n",
      "misc.forsale: thuan ft6000 22bis neville wheelwriter heise thums zmed16 thoren availble\n",
      "rec.autos: olof citroen olde yjs vavau gearboxes bellevue gearshift opdbs tercel\n",
      "rec.motorcycles: lotta spooge xz550 sportmax springers sprocket sprockets squeak sported me77\n",
      "rec.sport.baseball: tantrum tanstaafl riles huckabay slyke dhenderson 30s drayton scoresheets ma_ind25\n",
      "rec.sport.hockey: looming dade virta loraas loria doodah vincent_damphousse hipocracy dale_hawerchuk martin_rucinsky\n",
      "sci.crypt: phreakers phred wireline emboldens 71571 71441 physto embasies penetrations rsa\n",
      "sci.electronics: murashie municipalities _exact_ multivibrators _first_ _fluorescent_ multipling multiplexing mycal ýé\n",
      "sci.med: matise matias maternal 33136 masseur watery watertown watersheds mcmahon invertebrate\n",
      "sci.space: gaten gastronomical gastronomic nonterrestrial noonday noontime gasing gaseous beaming new_probes\n",
      "soc.religion.christian: signposts pitting domini vaya unfaithfully unfaithful pius saracens sardes shamed\n",
      "talk.politics.guns: hofstadter manes inundate 7mn _implies_ intruders c_z9 dozing mane qj0\n",
      "talk.politics.mideast: besmirch reserche reshaped amerikalilar murat amerindian amfia fraternatae insurgent tichauer\n",
      "talk.politics.misc: efficent kuril kumthekar kulaks kukis efm steeves steinbeck stephanopoulos skyrocketed\n",
      "talk.religion.misc: _basis_ indgil satanism ekr headlong arbab arbiter mena indebted baalbek\n"
     ]
    }
   ],
   "source": [
    "def show_top10(classifier, vectorizer, categories):\n",
    "    feature_names = np.asarray(vectorizer.get_feature_names())\n",
    "    for i, category in enumerate(categories):\n",
    "        top10 = np.argsort(classifier.feature_log_prob_[i])[-10:]\n",
    "        print(\"%s: %s\" % (category, \" \".join(feature_names[top10])))\n",
    "        \n",
    "show_top10(clf, vectorizer, newsgroups_train.target_names)"
   ]
  },
  {
   "cell_type": "code",
   "execution_count": 5,
   "metadata": {},
   "outputs": [
    {
     "name": "stdout",
     "output_type": "stream",
     "text": [
      "                          precision    recall  f1-score   support\n",
      "\n",
      "             alt.atheism       0.31      0.42      0.36       319\n",
      "           comp.graphics       0.73      0.72      0.72       389\n",
      " comp.os.ms-windows.misc       0.70      0.61      0.65       394\n",
      "comp.sys.ibm.pc.hardware       0.64      0.70      0.67       392\n",
      "   comp.sys.mac.hardware       0.76      0.73      0.74       385\n",
      "          comp.windows.x       0.82      0.79      0.80       395\n",
      "            misc.forsale       0.77      0.74      0.75       390\n",
      "               rec.autos       0.82      0.75      0.78       396\n",
      "         rec.motorcycles       0.84      0.77      0.81       398\n",
      "      rec.sport.baseball       0.92      0.83      0.88       397\n",
      "        rec.sport.hockey       0.84      0.94      0.89       399\n",
      "               sci.crypt       0.75      0.81      0.78       396\n",
      "         sci.electronics       0.71      0.55      0.62       393\n",
      "                 sci.med       0.83      0.81      0.82       396\n",
      "               sci.space       0.79      0.80      0.80       394\n",
      "  soc.religion.christian       0.54      0.90      0.67       398\n",
      "      talk.politics.guns       0.59      0.73      0.65       364\n",
      "   talk.politics.mideast       0.80      0.85      0.82       376\n",
      "      talk.politics.misc       0.66      0.42      0.51       310\n",
      "      talk.religion.misc       0.50      0.11      0.18       251\n",
      "\n",
      "               micro avg       0.72      0.72      0.72      7532\n",
      "               macro avg       0.72      0.70      0.70      7532\n",
      "            weighted avg       0.73      0.72      0.71      7532\n",
      "\n"
     ]
    }
   ],
   "source": [
    "from sklearn.metrics import classification_report\n",
    "\n",
    "newsgroups_test = fetch_20newsgroups(subset='test', remove=('headers', 'footers', 'quotes'))\n",
    "X_test_vectors = vectorizer.transform(newsgroups_test.data)\n",
    "predicts = clf.predict(X_test_vectors)\n",
    "print(classification_report(newsgroups_test.target, predicts,\n",
    "                            target_names=newsgroups_test.target_names))"
   ]
  }
 ],
 "metadata": {
  "kernelspec": {
   "display_name": "Python 3",
   "language": "python",
   "name": "python3"
  },
  "language_info": {
   "codemirror_mode": {
    "name": "ipython",
    "version": 3
   },
   "file_extension": ".py",
   "mimetype": "text/x-python",
   "name": "python",
   "nbconvert_exporter": "python",
   "pygments_lexer": "ipython3",
   "version": "3.7.1"
  }
 },
 "nbformat": 4,
 "nbformat_minor": 2
}
