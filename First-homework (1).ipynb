{
 "cells": [
  {
   "cell_type": "markdown",
   "metadata": {},
   "source": [
    "## 01 Character Input"
   ]
  },
  {
   "cell_type": "code",
   "execution_count": null,
   "metadata": {},
   "outputs": [],
   "source": [
    "name = input(\"Give me your name: \")\n",
    "age = input(\"Give me your age: \")\n",
    "age = int(age)\n",
    "\n",
    "from datetime import date\n",
    "year_ = date.today().year\n",
    "\n",
    "print(\"You will turn 100 in \" + str(year_ + 100 - age))"
   ]
  },
  {
   "cell_type": "markdown",
   "metadata": {},
   "source": [
    "## 03 List Less Than Ten"
   ]
  },
  {
   "cell_type": "code",
   "execution_count": null,
   "metadata": {},
   "outputs": [],
   "source": [
    "my_list = [1, 1, 2, 3, 5, 8, 13, 21, 34, 55, 89]\n",
    "for element in my_list:\n",
    "    if element < 5:\n",
    "        print(element)"
   ]
  },
  {
   "cell_type": "markdown",
   "metadata": {},
   "source": [
    "## 08 Rock Paper Scissors"
   ]
  },
  {
   "cell_type": "code",
   "execution_count": null,
   "metadata": {},
   "outputs": [],
   "source": [
    "while True:\n",
    "    usr_command = input(\"Do you want to start a new game? \")\n",
    "    if usr_command == \"yes\":\n",
    "        player1 = input(\"Player1 turn: \")\n",
    "        player2 = input(\"Player2 turn: \")\n",
    "        if player1 == \"rock\":\n",
    "            if player2 == \"rock\":\n",
    "                print(\"Draw!\")\n",
    "            elif player2 == \"scissors\":\n",
    "                print(\"Player1 won! Congrats!\")\n",
    "            elif player2 == \"paper\":\n",
    "                print(\"Player2 won! Congrats!\")\n",
    "        elif player1 == \"scissors\":\n",
    "            if player2 == \"scissors\":\n",
    "                print(\"Draw!\")\n",
    "            elif player2 == \"paper\":\n",
    "                print(\"Player1 won! Congrats!\")\n",
    "            elif player2 == \"rock\":\n",
    "                print(\"Player2 won! Congrats!\")\n",
    "        elif player1 == \"paper\":\n",
    "            if player2 == \"paper\":\n",
    "                print(\"Draw!\")\n",
    "            elif player2 == \"rock\":\n",
    "                print(\"Player1 won! Congrats!\")\n",
    "            elif player2 == \"scissors\":\n",
    "                print(\"Player2 won! Congrats!\")\n",
    "    elif usr_command == \"no\":\n",
    "        break\n"
   ]
  },
  {
   "cell_type": "markdown",
   "metadata": {},
   "source": [
    "## 16 Password Generator"
   ]
  },
  {
   "cell_type": "code",
   "execution_count": null,
   "metadata": {
    "scrolled": true
   },
   "outputs": [],
   "source": [
    "import random\n",
    "while True:\n",
    "    usr = input(\"Do you want a new password generated? \")\n",
    "    if usr == \"yes\":\n",
    "        passw = \"\"\n",
    "        list1 = \"abcdefghijklmnopqrstuvxyzABCDEFGHIJKLMNOPQRSTUVXYZ1234567890!@#$%^&*-_=+\"\n",
    "        for i in range(8):\n",
    "            passw += random.choice(list1)\n",
    "        print(\"New password: \" + passw)\n",
    "    elif usr == \"no\":\n",
    "        break"
   ]
  }
 ],
 "metadata": {
  "kernelspec": {
   "display_name": "Python 3",
   "language": "python",
   "name": "python3"
  },
  "language_info": {
   "codemirror_mode": {
    "name": "ipython",
    "version": 3
   },
   "file_extension": ".py",
   "mimetype": "text/x-python",
   "name": "python",
   "nbconvert_exporter": "python",
   "pygments_lexer": "ipython3",
   "version": "3.7.1"
  }
 },
 "nbformat": 4,
 "nbformat_minor": 2
}
